{
 "cells": [
  {
   "cell_type": "markdown",
   "id": "41b88507-131b-4bc9-b2e3-8098e035baa0",
   "metadata": {},
   "source": [
    "# Movie Budget & Revenue Dataset\n",
    "- Data collected May 1st 2018"
   ]
  },
  {
   "cell_type": "code",
   "execution_count": 3,
   "id": "302dba19-f0f2-4c44-a0ba-4f0a95d6651a",
   "metadata": {},
   "outputs": [],
   "source": [
    "import pandas as pd"
   ]
  },
  {
   "cell_type": "markdown",
   "id": "4526b73d-6f4e-49cc-b06d-8d01d56387ce",
   "metadata": {},
   "source": [
    "## Data Exploration & Cleaning"
   ]
  },
  {
   "cell_type": "code",
   "execution_count": 5,
   "id": "f3ead570-1ab7-4e02-8614-e62778c32802",
   "metadata": {},
   "outputs": [],
   "source": [
    "data = pd.read_csv(\"cost_revenue.csv\")"
   ]
  },
  {
   "cell_type": "code",
   "execution_count": 6,
   "id": "d7047282-3692-417d-b48f-661c74749a89",
   "metadata": {},
   "outputs": [
    {
     "data": {
      "text/html": [
       "<div>\n",
       "<style scoped>\n",
       "    .dataframe tbody tr th:only-of-type {\n",
       "        vertical-align: middle;\n",
       "    }\n",
       "\n",
       "    .dataframe tbody tr th {\n",
       "        vertical-align: top;\n",
       "    }\n",
       "\n",
       "    .dataframe thead th {\n",
       "        text-align: right;\n",
       "    }\n",
       "</style>\n",
       "<table border=\"1\" class=\"dataframe\">\n",
       "  <thead>\n",
       "    <tr style=\"text-align: right;\">\n",
       "      <th></th>\n",
       "      <th>Rank</th>\n",
       "      <th>Release_Date</th>\n",
       "      <th>Movie_Title</th>\n",
       "      <th>USD_Production_Budget</th>\n",
       "      <th>USD_Worldwide_Gross</th>\n",
       "      <th>USD_Domestic_Gross</th>\n",
       "    </tr>\n",
       "  </thead>\n",
       "  <tbody>\n",
       "    <tr>\n",
       "      <th>2960</th>\n",
       "      <td>2087</td>\n",
       "      <td>8/24/2007</td>\n",
       "      <td>War</td>\n",
       "      <td>$25,000,000</td>\n",
       "      <td>$40,686,409</td>\n",
       "      <td>$22,486,409</td>\n",
       "    </tr>\n",
       "  </tbody>\n",
       "</table>\n",
       "</div>"
      ],
      "text/plain": [
       "      Rank Release_Date Movie_Title USD_Production_Budget USD_Worldwide_Gross  \\\n",
       "2960  2087    8/24/2007         War           $25,000,000         $40,686,409   \n",
       "\n",
       "     USD_Domestic_Gross  \n",
       "2960        $22,486,409  "
      ]
     },
     "execution_count": 6,
     "metadata": {},
     "output_type": "execute_result"
    }
   ],
   "source": [
    "data.sample()"
   ]
  },
  {
   "cell_type": "code",
   "execution_count": 7,
   "id": "a5518e3c-e157-49ec-872a-588573f8ab1e",
   "metadata": {},
   "outputs": [
    {
     "data": {
      "text/plain": [
       "(5391, 6)"
      ]
     },
     "execution_count": 7,
     "metadata": {},
     "output_type": "execute_result"
    }
   ],
   "source": [
    "data.shape"
   ]
  },
  {
   "cell_type": "code",
   "execution_count": 8,
   "id": "274cb5a0-865a-4c61-8dea-cff3df83f601",
   "metadata": {},
   "outputs": [
    {
     "data": {
      "text/plain": [
       "Rank                      int64\n",
       "Release_Date             object\n",
       "Movie_Title              object\n",
       "USD_Production_Budget    object\n",
       "USD_Worldwide_Gross      object\n",
       "USD_Domestic_Gross       object\n",
       "dtype: object"
      ]
     },
     "execution_count": 8,
     "metadata": {},
     "output_type": "execute_result"
    }
   ],
   "source": [
    "data.dtypes"
   ]
  },
  {
   "cell_type": "code",
   "execution_count": 9,
   "id": "a690bd70-037b-480f-99c0-e3d7c3b4190c",
   "metadata": {},
   "outputs": [
    {
     "data": {
      "text/html": [
       "<div>\n",
       "<style scoped>\n",
       "    .dataframe tbody tr th:only-of-type {\n",
       "        vertical-align: middle;\n",
       "    }\n",
       "\n",
       "    .dataframe tbody tr th {\n",
       "        vertical-align: top;\n",
       "    }\n",
       "\n",
       "    .dataframe thead th {\n",
       "        text-align: right;\n",
       "    }\n",
       "</style>\n",
       "<table border=\"1\" class=\"dataframe\">\n",
       "  <thead>\n",
       "    <tr style=\"text-align: right;\">\n",
       "      <th></th>\n",
       "      <th>Rank</th>\n",
       "      <th>Release_Date</th>\n",
       "      <th>Movie_Title</th>\n",
       "      <th>USD_Production_Budget</th>\n",
       "      <th>USD_Worldwide_Gross</th>\n",
       "      <th>USD_Domestic_Gross</th>\n",
       "    </tr>\n",
       "  </thead>\n",
       "  <tbody>\n",
       "  </tbody>\n",
       "</table>\n",
       "</div>"
      ],
      "text/plain": [
       "Empty DataFrame\n",
       "Columns: [Rank, Release_Date, Movie_Title, USD_Production_Budget, USD_Worldwide_Gross, USD_Domestic_Gross]\n",
       "Index: []"
      ]
     },
     "execution_count": 9,
     "metadata": {},
     "output_type": "execute_result"
    }
   ],
   "source": [
    "data[data.isna().any(axis=1)]"
   ]
  },
  {
   "cell_type": "code",
   "execution_count": 10,
   "id": "1e7ddab7-da17-42f6-9e8c-2753236926e1",
   "metadata": {},
   "outputs": [
    {
     "data": {
      "text/plain": [
       "Rank                     5391\n",
       "Release_Date             2262\n",
       "Movie_Title              5318\n",
       "USD_Production_Budget     484\n",
       "USD_Worldwide_Gross      4969\n",
       "USD_Domestic_Gross       4809\n",
       "dtype: int64"
      ]
     },
     "execution_count": 10,
     "metadata": {},
     "output_type": "execute_result"
    }
   ],
   "source": [
    "data.nunique()"
   ]
  },
  {
   "cell_type": "code",
   "execution_count": 11,
   "id": "cdd79d70-289e-4ac5-8daf-4a89d012a347",
   "metadata": {},
   "outputs": [
    {
     "data": {
      "text/plain": [
       "False    5389\n",
       "True        2\n",
       "Name: count, dtype: int64"
      ]
     },
     "execution_count": 11,
     "metadata": {},
     "output_type": "execute_result"
    }
   ],
   "source": [
    "data.duplicated(['Movie_Title','Release_Date'], keep=False).value_counts()"
   ]
  },
  {
   "cell_type": "markdown",
   "id": "1d035286-d113-4ffb-8ff5-81d923a588f4",
   "metadata": {},
   "source": [
    "- The dataset contains 5391 rows, with 6 columns of data.\n",
    "- The data types for 'Release_date', 'USD_Production_Budget', 'USD_Worldwide_Gross', 'USD_Domestic_Gross' are currently set to 'object' - these will need to be updated.\n",
    "- The data type for 'Release_Date' needs to be changed to date format\n",
    "- There are no rows with any missing values\n",
    "- There appears to be 2 duplicate entries: Searching for duplicates using Movie_Title + Release_Date (To account for films with the same name, released in differernt years)"
   ]
  },
  {
   "cell_type": "markdown",
   "id": "e524190c-9c32-4132-a827-e8f553a95ef2",
   "metadata": {},
   "source": [
    "## Data Cleaning"
   ]
  },
  {
   "cell_type": "markdown",
   "id": "9a13641d-417f-46e7-95e7-ef83bb9ff51a",
   "metadata": {},
   "source": [
    "Required actions:\n",
    "- Investigate and remove rows with duplicated movie titles\n",
    "- Convert columns to correct data types"
   ]
  },
  {
   "cell_type": "code",
   "execution_count": 15,
   "id": "a47b14a7-af50-43d2-998e-91106496eba0",
   "metadata": {
    "scrolled": true
   },
   "outputs": [
    {
     "data": {
      "text/html": [
       "<div>\n",
       "<style scoped>\n",
       "    .dataframe tbody tr th:only-of-type {\n",
       "        vertical-align: middle;\n",
       "    }\n",
       "\n",
       "    .dataframe tbody tr th {\n",
       "        vertical-align: top;\n",
       "    }\n",
       "\n",
       "    .dataframe thead th {\n",
       "        text-align: right;\n",
       "    }\n",
       "</style>\n",
       "<table border=\"1\" class=\"dataframe\">\n",
       "  <thead>\n",
       "    <tr style=\"text-align: right;\">\n",
       "      <th></th>\n",
       "      <th>Rank</th>\n",
       "      <th>Release_Date</th>\n",
       "      <th>Movie_Title</th>\n",
       "      <th>USD_Production_Budget</th>\n",
       "      <th>USD_Worldwide_Gross</th>\n",
       "      <th>USD_Domestic_Gross</th>\n",
       "    </tr>\n",
       "  </thead>\n",
       "  <tbody>\n",
       "    <tr>\n",
       "      <th>4241</th>\n",
       "      <td>3789</td>\n",
       "      <td>9/21/2012</td>\n",
       "      <td>House at the End of the Street</td>\n",
       "      <td>$6,900,000</td>\n",
       "      <td>$44,103,982</td>\n",
       "      <td>$31,611,916</td>\n",
       "    </tr>\n",
       "  </tbody>\n",
       "</table>\n",
       "</div>"
      ],
      "text/plain": [
       "      Rank Release_Date                     Movie_Title USD_Production_Budget  \\\n",
       "4241  3789    9/21/2012  House at the End of the Street            $6,900,000   \n",
       "\n",
       "     USD_Worldwide_Gross USD_Domestic_Gross  \n",
       "4241         $44,103,982        $31,611,916  "
      ]
     },
     "execution_count": 15,
     "metadata": {},
     "output_type": "execute_result"
    }
   ],
   "source": [
    "data.sample()"
   ]
  },
  {
   "cell_type": "code",
   "execution_count": 16,
   "id": "a98963cc-3a3f-41d8-81eb-a179be994f88",
   "metadata": {},
   "outputs": [
    {
     "data": {
      "text/html": [
       "<div>\n",
       "<style scoped>\n",
       "    .dataframe tbody tr th:only-of-type {\n",
       "        vertical-align: middle;\n",
       "    }\n",
       "\n",
       "    .dataframe tbody tr th {\n",
       "        vertical-align: top;\n",
       "    }\n",
       "\n",
       "    .dataframe thead th {\n",
       "        text-align: right;\n",
       "    }\n",
       "</style>\n",
       "<table border=\"1\" class=\"dataframe\">\n",
       "  <thead>\n",
       "    <tr style=\"text-align: right;\">\n",
       "      <th></th>\n",
       "      <th>Rank</th>\n",
       "      <th>Release_Date</th>\n",
       "      <th>Movie_Title</th>\n",
       "      <th>USD_Production_Budget</th>\n",
       "      <th>USD_Worldwide_Gross</th>\n",
       "      <th>USD_Domestic_Gross</th>\n",
       "    </tr>\n",
       "  </thead>\n",
       "  <tbody>\n",
       "    <tr>\n",
       "      <th>3054</th>\n",
       "      <td>5289</td>\n",
       "      <td>12/31/2007</td>\n",
       "      <td>A Dog's Breakfast</td>\n",
       "      <td>$120,000</td>\n",
       "      <td>$0</td>\n",
       "      <td>$0</td>\n",
       "    </tr>\n",
       "    <tr>\n",
       "      <th>3055</th>\n",
       "      <td>5290</td>\n",
       "      <td>12/31/2007</td>\n",
       "      <td>A Dog's Breakfast</td>\n",
       "      <td>$120,000</td>\n",
       "      <td>$0</td>\n",
       "      <td>$0</td>\n",
       "    </tr>\n",
       "  </tbody>\n",
       "</table>\n",
       "</div>"
      ],
      "text/plain": [
       "      Rank Release_Date        Movie_Title USD_Production_Budget  \\\n",
       "3054  5289   12/31/2007  A Dog's Breakfast              $120,000   \n",
       "3055  5290   12/31/2007  A Dog's Breakfast              $120,000   \n",
       "\n",
       "     USD_Worldwide_Gross USD_Domestic_Gross  \n",
       "3054                  $0                 $0  \n",
       "3055                  $0                 $0  "
      ]
     },
     "execution_count": 16,
     "metadata": {},
     "output_type": "execute_result"
    }
   ],
   "source": [
    "data[data.duplicated(['Movie_Title','Release_Date'], keep=False)]"
   ]
  },
  {
   "cell_type": "code",
   "execution_count": 17,
   "id": "4709f3c1-ac03-4502-a33b-2f84bc32569f",
   "metadata": {},
   "outputs": [],
   "source": [
    "data.drop_duplicates(['Movie_Title','Release_Date'], keep=False, inplace=True)"
   ]
  },
  {
   "cell_type": "code",
   "execution_count": 18,
   "id": "176cf2cc-7301-438b-868a-4baef08c9543",
   "metadata": {},
   "outputs": [
    {
     "data": {
      "text/html": [
       "<div>\n",
       "<style scoped>\n",
       "    .dataframe tbody tr th:only-of-type {\n",
       "        vertical-align: middle;\n",
       "    }\n",
       "\n",
       "    .dataframe tbody tr th {\n",
       "        vertical-align: top;\n",
       "    }\n",
       "\n",
       "    .dataframe thead th {\n",
       "        text-align: right;\n",
       "    }\n",
       "</style>\n",
       "<table border=\"1\" class=\"dataframe\">\n",
       "  <thead>\n",
       "    <tr style=\"text-align: right;\">\n",
       "      <th></th>\n",
       "      <th>Rank</th>\n",
       "      <th>Release_Date</th>\n",
       "      <th>Movie_Title</th>\n",
       "      <th>USD_Production_Budget</th>\n",
       "      <th>USD_Worldwide_Gross</th>\n",
       "      <th>USD_Domestic_Gross</th>\n",
       "    </tr>\n",
       "  </thead>\n",
       "  <tbody>\n",
       "  </tbody>\n",
       "</table>\n",
       "</div>"
      ],
      "text/plain": [
       "Empty DataFrame\n",
       "Columns: [Rank, Release_Date, Movie_Title, USD_Production_Budget, USD_Worldwide_Gross, USD_Domestic_Gross]\n",
       "Index: []"
      ]
     },
     "execution_count": 18,
     "metadata": {},
     "output_type": "execute_result"
    }
   ],
   "source": [
    "data[data.duplicated(['Movie_Title','Release_Date'], keep=False)]"
   ]
  },
  {
   "cell_type": "code",
   "execution_count": 44,
   "id": "a4ae84d4-5e89-454c-a0dd-23efc66b39c4",
   "metadata": {},
   "outputs": [
    {
     "data": {
      "text/plain": [
       "False    5389\n",
       "Name: count, dtype: int64"
      ]
     },
     "execution_count": 44,
     "metadata": {},
     "output_type": "execute_result"
    }
   ],
   "source": [
    "data.duplicated(['Movie_Title','Release_Date'], keep=False).value_counts()"
   ]
  },
  {
   "cell_type": "markdown",
   "id": "a21c3492-e871-4898-99ca-3ab13d061bed",
   "metadata": {},
   "source": [
    "- There are 5389 rows remaining after removing the 2 duplicates"
   ]
  },
  {
   "cell_type": "code",
   "execution_count": 21,
   "id": "29bd2114-4835-433b-b055-61d0e4fa9283",
   "metadata": {},
   "outputs": [
    {
     "data": {
      "text/html": [
       "<div>\n",
       "<style scoped>\n",
       "    .dataframe tbody tr th:only-of-type {\n",
       "        vertical-align: middle;\n",
       "    }\n",
       "\n",
       "    .dataframe tbody tr th {\n",
       "        vertical-align: top;\n",
       "    }\n",
       "\n",
       "    .dataframe thead th {\n",
       "        text-align: right;\n",
       "    }\n",
       "</style>\n",
       "<table border=\"1\" class=\"dataframe\">\n",
       "  <thead>\n",
       "    <tr style=\"text-align: right;\">\n",
       "      <th></th>\n",
       "      <th>Rank</th>\n",
       "      <th>Release_Date</th>\n",
       "      <th>Movie_Title</th>\n",
       "      <th>USD_Production_Budget</th>\n",
       "      <th>USD_Worldwide_Gross</th>\n",
       "      <th>USD_Domestic_Gross</th>\n",
       "    </tr>\n",
       "  </thead>\n",
       "  <tbody>\n",
       "    <tr>\n",
       "      <th>4195</th>\n",
       "      <td>5090</td>\n",
       "      <td>7/17/2012</td>\n",
       "      <td>Girls Gone Dead</td>\n",
       "      <td>$500,000</td>\n",
       "      <td>$0</td>\n",
       "      <td>$0</td>\n",
       "    </tr>\n",
       "  </tbody>\n",
       "</table>\n",
       "</div>"
      ],
      "text/plain": [
       "      Rank Release_Date      Movie_Title USD_Production_Budget  \\\n",
       "4195  5090    7/17/2012  Girls Gone Dead              $500,000   \n",
       "\n",
       "     USD_Worldwide_Gross USD_Domestic_Gross  \n",
       "4195                  $0                 $0  "
      ]
     },
     "execution_count": 21,
     "metadata": {},
     "output_type": "execute_result"
    }
   ],
   "source": [
    "data.sample()"
   ]
  },
  {
   "cell_type": "code",
   "execution_count": 64,
   "id": "ebd18f08-8dd6-4e75-b2cd-d12169f2cb21",
   "metadata": {},
   "outputs": [],
   "source": [
    "data['USD_Production_Budget'] = data['USD_Production_Budget'].astype(str).str.replace('\\\\$', \"\", regex=True)\n",
    "data['USD_Worldwide_Gross'] = data['USD_Worldwide_Gross'].astype(str).str.replace('\\\\$', \"\", regex=True)\n",
    "data['USD_Domestic_Gross'] = data['USD_Domestic_Gross'].astype(str).str.replace('\\\\$', \"\", regex=True)"
   ]
  },
  {
   "cell_type": "code",
   "execution_count": 66,
   "id": "49ab5310-91b1-4f52-99d7-5ca35b909569",
   "metadata": {},
   "outputs": [
    {
     "data": {
      "text/html": [
       "<div>\n",
       "<style scoped>\n",
       "    .dataframe tbody tr th:only-of-type {\n",
       "        vertical-align: middle;\n",
       "    }\n",
       "\n",
       "    .dataframe tbody tr th {\n",
       "        vertical-align: top;\n",
       "    }\n",
       "\n",
       "    .dataframe thead th {\n",
       "        text-align: right;\n",
       "    }\n",
       "</style>\n",
       "<table border=\"1\" class=\"dataframe\">\n",
       "  <thead>\n",
       "    <tr style=\"text-align: right;\">\n",
       "      <th></th>\n",
       "      <th>Rank</th>\n",
       "      <th>Release_Date</th>\n",
       "      <th>Movie_Title</th>\n",
       "      <th>USD_Production_Budget</th>\n",
       "      <th>USD_Worldwide_Gross</th>\n",
       "      <th>USD_Domestic_Gross</th>\n",
       "    </tr>\n",
       "  </thead>\n",
       "  <tbody>\n",
       "    <tr>\n",
       "      <th>3477</th>\n",
       "      <td>1729</td>\n",
       "      <td>10/4/2009</td>\n",
       "      <td>Hannah Montana the Movie</td>\n",
       "      <td>30000000</td>\n",
       "      <td>169173206</td>\n",
       "      <td>79576189</td>\n",
       "    </tr>\n",
       "  </tbody>\n",
       "</table>\n",
       "</div>"
      ],
      "text/plain": [
       "      Rank Release_Date               Movie_Title USD_Production_Budget  \\\n",
       "3477  1729    10/4/2009  Hannah Montana the Movie              30000000   \n",
       "\n",
       "     USD_Worldwide_Gross USD_Domestic_Gross  \n",
       "3477           169173206           79576189  "
      ]
     },
     "execution_count": 66,
     "metadata": {},
     "output_type": "execute_result"
    }
   ],
   "source": [
    "data.sample()"
   ]
  },
  {
   "cell_type": "code",
   "execution_count": 74,
   "id": "3e7de3d1-e766-43ca-9156-6723a493aebd",
   "metadata": {},
   "outputs": [],
   "source": [
    "data.USD_Production_Budget = data.USD_Production_Budget.astype('int64')\n",
    "data.USD_Worldwide_Gross = data.USD_Worldwide_Gross.astype('int64')\n",
    "data.USD_Domestic_Gross = data.USD_Domestic_Gross.astype('int64')"
   ]
  },
  {
   "cell_type": "code",
   "execution_count": 76,
   "id": "881621ef-70fb-4d0c-849c-5b8808d4ce94",
   "metadata": {},
   "outputs": [
    {
     "data": {
      "text/html": [
       "<div>\n",
       "<style scoped>\n",
       "    .dataframe tbody tr th:only-of-type {\n",
       "        vertical-align: middle;\n",
       "    }\n",
       "\n",
       "    .dataframe tbody tr th {\n",
       "        vertical-align: top;\n",
       "    }\n",
       "\n",
       "    .dataframe thead th {\n",
       "        text-align: right;\n",
       "    }\n",
       "</style>\n",
       "<table border=\"1\" class=\"dataframe\">\n",
       "  <thead>\n",
       "    <tr style=\"text-align: right;\">\n",
       "      <th></th>\n",
       "      <th>Rank</th>\n",
       "      <th>Release_Date</th>\n",
       "      <th>Movie_Title</th>\n",
       "      <th>USD_Production_Budget</th>\n",
       "      <th>USD_Worldwide_Gross</th>\n",
       "      <th>USD_Domestic_Gross</th>\n",
       "    </tr>\n",
       "  </thead>\n",
       "  <tbody>\n",
       "    <tr>\n",
       "      <th>2188</th>\n",
       "      <td>3821</td>\n",
       "      <td>2/27/2004</td>\n",
       "      <td>Good Bye, Lenin!</td>\n",
       "      <td>6400000</td>\n",
       "      <td>79384539</td>\n",
       "      <td>4063859</td>\n",
       "    </tr>\n",
       "  </tbody>\n",
       "</table>\n",
       "</div>"
      ],
      "text/plain": [
       "      Rank Release_Date       Movie_Title  USD_Production_Budget  \\\n",
       "2188  3821    2/27/2004  Good Bye, Lenin!                6400000   \n",
       "\n",
       "      USD_Worldwide_Gross  USD_Domestic_Gross  \n",
       "2188             79384539             4063859  "
      ]
     },
     "execution_count": 76,
     "metadata": {},
     "output_type": "execute_result"
    }
   ],
   "source": [
    "data.sample()"
   ]
  },
  {
   "cell_type": "code",
   "execution_count": 192,
   "id": "a84a62f6-57d0-4478-ae7e-b0f895d89e0b",
   "metadata": {},
   "outputs": [],
   "source": [
    "data['Release_Date'] = pd.to_datetime(data['Release_Date'], format=\"%m/%d/%Y\")             "
   ]
  },
  {
   "cell_type": "code",
   "execution_count": 194,
   "id": "994b2695-263e-4686-bf9e-16f721108039",
   "metadata": {},
   "outputs": [
    {
     "data": {
      "text/plain": [
       "Rank                              int64\n",
       "Release_Date             datetime64[ns]\n",
       "Movie_Title                      object\n",
       "USD_Production_Budget             int64\n",
       "USD_Worldwide_Gross               int64\n",
       "USD_Domestic_Gross                int64\n",
       "dtype: object"
      ]
     },
     "execution_count": 194,
     "metadata": {},
     "output_type": "execute_result"
    }
   ],
   "source": [
    "data.dtypes"
   ]
  },
  {
   "cell_type": "markdown",
   "id": "22706165-96f3-4455-bc55-c15af7fcfcd8",
   "metadata": {},
   "source": [
    "- The datatypes for columns displaying currency have been fixed, the datatype for the Release_Date column has been changed to datetime"
   ]
  },
  {
   "cell_type": "markdown",
   "id": "4a8436d2-f3e5-4630-bb3b-1312827cbae6",
   "metadata": {},
   "source": [
    "## Data Exploration"
   ]
  },
  {
   "cell_type": "markdown",
   "id": "0b3dd4fe-a620-4bf3-9906-4416ce392c92",
   "metadata": {},
   "source": [
    "Some exploratory questions to answer:\n",
    "1. What is the average production budget of the films in the data set?\n",
    "2. What is the average worldwide gross revenue of films?\n",
    "3. What were the minimums for worldwide and domestic revenue?\n",
    "4. Are the bottom 25% of films actually profitable or do they lose money?\n",
    "5. What are the highest production budget and highest worldwide gross revenue of any film?\n",
    "6. How much revenue did the lowest and highest budget films make?\n",
    "7. How many films grossed \\\\$0 domestically?\n",
    "8. What were the highest budget films that grossed nothing?\n",
    "9. How many films grossed \\\\$0 worldwide?\n",
    "10. How many films grossed \\\\$0 domestically but grossed internationally?\n",
    "11. Which films were not released yet at the time of data collection?\n",
    "12. What percentage of films did not break even at the box office?"
   ]
  },
  {
   "cell_type": "code",
   "execution_count": 102,
   "id": "886a3ca0-ce2c-4308-9c76-8e9ddd95af82",
   "metadata": {},
   "outputs": [
    {
     "data": {
      "text/html": [
       "<div>\n",
       "<style scoped>\n",
       "    .dataframe tbody tr th:only-of-type {\n",
       "        vertical-align: middle;\n",
       "    }\n",
       "\n",
       "    .dataframe tbody tr th {\n",
       "        vertical-align: top;\n",
       "    }\n",
       "\n",
       "    .dataframe thead th {\n",
       "        text-align: right;\n",
       "    }\n",
       "</style>\n",
       "<table border=\"1\" class=\"dataframe\">\n",
       "  <thead>\n",
       "    <tr style=\"text-align: right;\">\n",
       "      <th></th>\n",
       "      <th>Rank</th>\n",
       "      <th>USD_Production_Budget</th>\n",
       "      <th>USD_Worldwide_Gross</th>\n",
       "      <th>USD_Domestic_Gross</th>\n",
       "    </tr>\n",
       "  </thead>\n",
       "  <tbody>\n",
       "    <tr>\n",
       "      <th>count</th>\n",
       "      <td>5389.00000</td>\n",
       "      <td>5389.00000</td>\n",
       "      <td>5389.00000</td>\n",
       "      <td>5389.00000</td>\n",
       "    </tr>\n",
       "    <tr>\n",
       "      <th>mean</th>\n",
       "      <td>2695.03748</td>\n",
       "      <td>31125240.17165</td>\n",
       "      <td>88888398.55279</td>\n",
       "      <td>41250823.03173</td>\n",
       "    </tr>\n",
       "    <tr>\n",
       "      <th>std</th>\n",
       "      <td>1555.87837</td>\n",
       "      <td>40526916.68195</td>\n",
       "      <td>168480319.02353</td>\n",
       "      <td>66036819.50498</td>\n",
       "    </tr>\n",
       "    <tr>\n",
       "      <th>min</th>\n",
       "      <td>1.00000</td>\n",
       "      <td>1100.00000</td>\n",
       "      <td>0.00000</td>\n",
       "      <td>0.00000</td>\n",
       "    </tr>\n",
       "    <tr>\n",
       "      <th>25%</th>\n",
       "      <td>1348.00000</td>\n",
       "      <td>5000000.00000</td>\n",
       "      <td>3894240.00000</td>\n",
       "      <td>1340891.00000</td>\n",
       "    </tr>\n",
       "    <tr>\n",
       "      <th>50%</th>\n",
       "      <td>2695.00000</td>\n",
       "      <td>17000000.00000</td>\n",
       "      <td>27469621.00000</td>\n",
       "      <td>17200925.00000</td>\n",
       "    </tr>\n",
       "    <tr>\n",
       "      <th>75%</th>\n",
       "      <td>4042.00000</td>\n",
       "      <td>40000000.00000</td>\n",
       "      <td>96469187.00000</td>\n",
       "      <td>52353636.00000</td>\n",
       "    </tr>\n",
       "    <tr>\n",
       "      <th>max</th>\n",
       "      <td>5391.00000</td>\n",
       "      <td>425000000.00000</td>\n",
       "      <td>2783918982.00000</td>\n",
       "      <td>936662225.00000</td>\n",
       "    </tr>\n",
       "  </tbody>\n",
       "</table>\n",
       "</div>"
      ],
      "text/plain": [
       "             Rank USD_Production_Budget USD_Worldwide_Gross USD_Domestic_Gross\n",
       "count  5389.00000            5389.00000          5389.00000         5389.00000\n",
       "mean   2695.03748        31125240.17165      88888398.55279     41250823.03173\n",
       "std    1555.87837        40526916.68195     168480319.02353     66036819.50498\n",
       "min       1.00000            1100.00000             0.00000            0.00000\n",
       "25%    1348.00000         5000000.00000       3894240.00000      1340891.00000\n",
       "50%    2695.00000        17000000.00000      27469621.00000     17200925.00000\n",
       "75%    4042.00000        40000000.00000      96469187.00000     52353636.00000\n",
       "max    5391.00000       425000000.00000    2783918982.00000    936662225.00000"
      ]
     },
     "execution_count": 102,
     "metadata": {},
     "output_type": "execute_result"
    }
   ],
   "source": [
    "data.describe().apply(lambda s: s.apply('{0:.5f}'.format))"
   ]
  },
  {
   "cell_type": "markdown",
   "id": "3bc4634d-8b84-49c5-9be4-30409ff0372e",
   "metadata": {},
   "source": [
    "1. The average production budget for a film is about \\\\$31 million\n",
    "2. The average worldwide gross revenue for a film is about ~\\\\$89 million\n",
    "3. The minimum worldwide and domestic revenue for a film is \\\\$0\n",
    "4. Of the bottom 25% of films, the average budget is \\\\$5 million and the average worldwide gross revenue is ~\\\\$3.8 million, so they lose money on average.\n",
    "5. The highest production budget for a film is \\\\$425 million, the highest worldwide gross revenue is ~\\\\$2.8 billion."
   ]
  },
  {
   "cell_type": "code",
   "execution_count": 109,
   "id": "4375c3f2-22f0-4dee-973c-6155002c18d1",
   "metadata": {},
   "outputs": [
    {
     "data": {
      "text/html": [
       "<div>\n",
       "<style scoped>\n",
       "    .dataframe tbody tr th:only-of-type {\n",
       "        vertical-align: middle;\n",
       "    }\n",
       "\n",
       "    .dataframe tbody tr th {\n",
       "        vertical-align: top;\n",
       "    }\n",
       "\n",
       "    .dataframe thead th {\n",
       "        text-align: right;\n",
       "    }\n",
       "</style>\n",
       "<table border=\"1\" class=\"dataframe\">\n",
       "  <thead>\n",
       "    <tr style=\"text-align: right;\">\n",
       "      <th></th>\n",
       "      <th>Rank</th>\n",
       "      <th>Release_Date</th>\n",
       "      <th>Movie_Title</th>\n",
       "      <th>USD_Production_Budget</th>\n",
       "      <th>USD_Worldwide_Gross</th>\n",
       "      <th>USD_Domestic_Gross</th>\n",
       "    </tr>\n",
       "  </thead>\n",
       "  <tbody>\n",
       "    <tr>\n",
       "      <th>2427</th>\n",
       "      <td>5391</td>\n",
       "      <td>5/8/2005</td>\n",
       "      <td>My Date With Drew</td>\n",
       "      <td>1100</td>\n",
       "      <td>181041</td>\n",
       "      <td>181041</td>\n",
       "    </tr>\n",
       "  </tbody>\n",
       "</table>\n",
       "</div>"
      ],
      "text/plain": [
       "      Rank Release_Date        Movie_Title  USD_Production_Budget  \\\n",
       "2427  5391     5/8/2005  My Date With Drew                   1100   \n",
       "\n",
       "      USD_Worldwide_Gross  USD_Domestic_Gross  \n",
       "2427               181041              181041  "
      ]
     },
     "execution_count": 109,
     "metadata": {},
     "output_type": "execute_result"
    }
   ],
   "source": [
    "data[data.USD_Production_Budget == 1100]"
   ]
  },
  {
   "cell_type": "code",
   "execution_count": 111,
   "id": "9e6905d3-78b8-4c52-be83-448ebd1803c7",
   "metadata": {},
   "outputs": [
    {
     "data": {
      "text/html": [
       "<div>\n",
       "<style scoped>\n",
       "    .dataframe tbody tr th:only-of-type {\n",
       "        vertical-align: middle;\n",
       "    }\n",
       "\n",
       "    .dataframe tbody tr th {\n",
       "        vertical-align: top;\n",
       "    }\n",
       "\n",
       "    .dataframe thead th {\n",
       "        text-align: right;\n",
       "    }\n",
       "</style>\n",
       "<table border=\"1\" class=\"dataframe\">\n",
       "  <thead>\n",
       "    <tr style=\"text-align: right;\">\n",
       "      <th></th>\n",
       "      <th>Rank</th>\n",
       "      <th>Release_Date</th>\n",
       "      <th>Movie_Title</th>\n",
       "      <th>USD_Production_Budget</th>\n",
       "      <th>USD_Worldwide_Gross</th>\n",
       "      <th>USD_Domestic_Gross</th>\n",
       "    </tr>\n",
       "  </thead>\n",
       "  <tbody>\n",
       "    <tr>\n",
       "      <th>3529</th>\n",
       "      <td>1</td>\n",
       "      <td>12/18/2009</td>\n",
       "      <td>Avatar</td>\n",
       "      <td>425000000</td>\n",
       "      <td>2783918982</td>\n",
       "      <td>760507625</td>\n",
       "    </tr>\n",
       "  </tbody>\n",
       "</table>\n",
       "</div>"
      ],
      "text/plain": [
       "      Rank Release_Date Movie_Title  USD_Production_Budget  \\\n",
       "3529     1   12/18/2009      Avatar              425000000   \n",
       "\n",
       "      USD_Worldwide_Gross  USD_Domestic_Gross  \n",
       "3529           2783918982           760507625  "
      ]
     },
     "execution_count": 111,
     "metadata": {},
     "output_type": "execute_result"
    }
   ],
   "source": [
    "data[data.USD_Production_Budget == 425000000]"
   ]
  },
  {
   "cell_type": "markdown",
   "id": "23bed0b3-699f-4c47-a3da-b24b6f63963e",
   "metadata": {},
   "source": [
    "6.\n",
    "- The film with the lowest budget was 'My Date With Drew' with a budget of \\\\$1100, which made a revenue of \\\\$181,041\n",
    "- The film with the highest budget was 'Avatar' with a budget of \\\\$425000000, which made a revenue of \\\\$2,783,918,982"
   ]
  },
  {
   "cell_type": "code",
   "execution_count": 120,
   "id": "8536804a-4bf0-4cd0-8123-28342a3a1d9a",
   "metadata": {},
   "outputs": [
    {
     "data": {
      "text/plain": [
       "Rank                     510\n",
       "Release_Date             510\n",
       "Movie_Title              510\n",
       "USD_Production_Budget    510\n",
       "USD_Worldwide_Gross      510\n",
       "USD_Domestic_Gross       510\n",
       "dtype: int64"
      ]
     },
     "execution_count": 120,
     "metadata": {},
     "output_type": "execute_result"
    }
   ],
   "source": [
    "data[data.USD_Domestic_Gross == 0].count()"
   ]
  },
  {
   "cell_type": "markdown",
   "id": "6cb89f1c-9d7e-4cda-be89-b3d0a948a350",
   "metadata": {},
   "source": [
    "7. There were 510 films that grossed \\\\$0 domestically"
   ]
  },
  {
   "cell_type": "code",
   "execution_count": 137,
   "id": "d68f5cb5-01ec-4a11-a10b-1ecfef001ca4",
   "metadata": {},
   "outputs": [
    {
     "data": {
      "text/html": [
       "<div>\n",
       "<style scoped>\n",
       "    .dataframe tbody tr th:only-of-type {\n",
       "        vertical-align: middle;\n",
       "    }\n",
       "\n",
       "    .dataframe tbody tr th {\n",
       "        vertical-align: top;\n",
       "    }\n",
       "\n",
       "    .dataframe thead th {\n",
       "        text-align: right;\n",
       "    }\n",
       "</style>\n",
       "<table border=\"1\" class=\"dataframe\">\n",
       "  <thead>\n",
       "    <tr style=\"text-align: right;\">\n",
       "      <th></th>\n",
       "      <th>Rank</th>\n",
       "      <th>Release_Date</th>\n",
       "      <th>Movie_Title</th>\n",
       "      <th>USD_Production_Budget</th>\n",
       "      <th>USD_Worldwide_Gross</th>\n",
       "      <th>USD_Domestic_Gross</th>\n",
       "    </tr>\n",
       "  </thead>\n",
       "  <tbody>\n",
       "    <tr>\n",
       "      <th>5388</th>\n",
       "      <td>96</td>\n",
       "      <td>12/31/2020</td>\n",
       "      <td>Singularity</td>\n",
       "      <td>175000000</td>\n",
       "      <td>0</td>\n",
       "      <td>0</td>\n",
       "    </tr>\n",
       "    <tr>\n",
       "      <th>5387</th>\n",
       "      <td>126</td>\n",
       "      <td>12/18/2018</td>\n",
       "      <td>Aquaman</td>\n",
       "      <td>160000000</td>\n",
       "      <td>0</td>\n",
       "      <td>0</td>\n",
       "    </tr>\n",
       "    <tr>\n",
       "      <th>5384</th>\n",
       "      <td>321</td>\n",
       "      <td>9/3/2018</td>\n",
       "      <td>A Wrinkle in Time</td>\n",
       "      <td>103000000</td>\n",
       "      <td>0</td>\n",
       "      <td>0</td>\n",
       "    </tr>\n",
       "    <tr>\n",
       "      <th>5385</th>\n",
       "      <td>366</td>\n",
       "      <td>10/8/2018</td>\n",
       "      <td>Amusement Park</td>\n",
       "      <td>100000000</td>\n",
       "      <td>0</td>\n",
       "      <td>0</td>\n",
       "    </tr>\n",
       "    <tr>\n",
       "      <th>5058</th>\n",
       "      <td>880</td>\n",
       "      <td>11/12/2015</td>\n",
       "      <td>The Ridiculous 6</td>\n",
       "      <td>60000000</td>\n",
       "      <td>0</td>\n",
       "      <td>0</td>\n",
       "    </tr>\n",
       "  </tbody>\n",
       "</table>\n",
       "</div>"
      ],
      "text/plain": [
       "      Rank Release_Date        Movie_Title  USD_Production_Budget  \\\n",
       "5388    96   12/31/2020        Singularity              175000000   \n",
       "5387   126   12/18/2018            Aquaman              160000000   \n",
       "5384   321     9/3/2018  A Wrinkle in Time              103000000   \n",
       "5385   366    10/8/2018     Amusement Park              100000000   \n",
       "5058   880   11/12/2015   The Ridiculous 6               60000000   \n",
       "\n",
       "      USD_Worldwide_Gross  USD_Domestic_Gross  \n",
       "5388                    0                   0  \n",
       "5387                    0                   0  \n",
       "5384                    0                   0  \n",
       "5385                    0                   0  \n",
       "5058                    0                   0  "
      ]
     },
     "execution_count": 137,
     "metadata": {},
     "output_type": "execute_result"
    }
   ],
   "source": [
    "domestic = data.USD_Domestic_Gross == 0\n",
    "worldwide = data.USD_Worldwide_Gross == 0\n",
    "data[domestic & worldwide].sort_values('USD_Production_Budget', ascending=False).head()"
   ]
  },
  {
   "cell_type": "markdown",
   "id": "d037166a-9fb8-43da-b637-d35e168c30f2",
   "metadata": {},
   "source": [
    "8. \n",
    "- The highest budget for a film that grossed \\\\$0 was \\\\$175,000,000\n",
    "- The second highest was \\\\$160,000,000 and the third was \\\\$103,000,000"
   ]
  },
  {
   "cell_type": "code",
   "execution_count": 146,
   "id": "b4ff85ff-ce3b-4773-b765-044c6c050613",
   "metadata": {},
   "outputs": [
    {
     "data": {
      "text/plain": [
       "Rank                     355\n",
       "Release_Date             355\n",
       "Movie_Title              355\n",
       "USD_Production_Budget    355\n",
       "USD_Worldwide_Gross      355\n",
       "USD_Domestic_Gross       355\n",
       "dtype: int64"
      ]
     },
     "execution_count": 146,
     "metadata": {},
     "output_type": "execute_result"
    }
   ],
   "source": [
    "data[data.USD_Worldwide_Gross == 0].count()"
   ]
  },
  {
   "cell_type": "markdown",
   "id": "10ac8a70-5e16-41c4-a280-e2f86a79cdc2",
   "metadata": {},
   "source": [
    "9. There were 355 films that grossed \\\\$0 worldwide"
   ]
  },
  {
   "cell_type": "code",
   "execution_count": 157,
   "id": "4924d7d5-d8c6-4756-a225-7d392f50853c",
   "metadata": {},
   "outputs": [
    {
     "data": {
      "text/html": [
       "<div>\n",
       "<style scoped>\n",
       "    .dataframe tbody tr th:only-of-type {\n",
       "        vertical-align: middle;\n",
       "    }\n",
       "\n",
       "    .dataframe tbody tr th {\n",
       "        vertical-align: top;\n",
       "    }\n",
       "\n",
       "    .dataframe thead th {\n",
       "        text-align: right;\n",
       "    }\n",
       "</style>\n",
       "<table border=\"1\" class=\"dataframe\">\n",
       "  <thead>\n",
       "    <tr style=\"text-align: right;\">\n",
       "      <th></th>\n",
       "      <th>Rank</th>\n",
       "      <th>Release_Date</th>\n",
       "      <th>Movie_Title</th>\n",
       "      <th>USD_Production_Budget</th>\n",
       "      <th>USD_Worldwide_Gross</th>\n",
       "      <th>USD_Domestic_Gross</th>\n",
       "    </tr>\n",
       "  </thead>\n",
       "  <tbody>\n",
       "    <tr>\n",
       "      <th>71</th>\n",
       "      <td>4310</td>\n",
       "      <td>2/16/1956</td>\n",
       "      <td>Carousel</td>\n",
       "      <td>3380000</td>\n",
       "      <td>3220</td>\n",
       "      <td>0</td>\n",
       "    </tr>\n",
       "    <tr>\n",
       "      <th>1579</th>\n",
       "      <td>5087</td>\n",
       "      <td>2/11/2001</td>\n",
       "      <td>Everything Put Together</td>\n",
       "      <td>500000</td>\n",
       "      <td>7890</td>\n",
       "      <td>0</td>\n",
       "    </tr>\n",
       "    <tr>\n",
       "      <th>1744</th>\n",
       "      <td>3695</td>\n",
       "      <td>12/31/2001</td>\n",
       "      <td>The Hole</td>\n",
       "      <td>7500000</td>\n",
       "      <td>10834406</td>\n",
       "      <td>0</td>\n",
       "    </tr>\n",
       "    <tr>\n",
       "      <th>2155</th>\n",
       "      <td>4236</td>\n",
       "      <td>12/31/2003</td>\n",
       "      <td>Nothing</td>\n",
       "      <td>4000000</td>\n",
       "      <td>63180</td>\n",
       "      <td>0</td>\n",
       "    </tr>\n",
       "    <tr>\n",
       "      <th>2203</th>\n",
       "      <td>2513</td>\n",
       "      <td>3/31/2004</td>\n",
       "      <td>The Touch</td>\n",
       "      <td>20000000</td>\n",
       "      <td>5918742</td>\n",
       "      <td>0</td>\n",
       "    </tr>\n",
       "    <tr>\n",
       "      <th>...</th>\n",
       "      <td>...</td>\n",
       "      <td>...</td>\n",
       "      <td>...</td>\n",
       "      <td>...</td>\n",
       "      <td>...</td>\n",
       "      <td>...</td>\n",
       "    </tr>\n",
       "    <tr>\n",
       "      <th>5340</th>\n",
       "      <td>1506</td>\n",
       "      <td>4/14/2017</td>\n",
       "      <td>Queen of the Desert</td>\n",
       "      <td>36000000</td>\n",
       "      <td>1480089</td>\n",
       "      <td>0</td>\n",
       "    </tr>\n",
       "    <tr>\n",
       "      <th>5348</th>\n",
       "      <td>2225</td>\n",
       "      <td>5/5/2017</td>\n",
       "      <td>Chāi dàn zhuānjiā</td>\n",
       "      <td>23000000</td>\n",
       "      <td>58807172</td>\n",
       "      <td>0</td>\n",
       "    </tr>\n",
       "    <tr>\n",
       "      <th>5360</th>\n",
       "      <td>4832</td>\n",
       "      <td>7/3/2017</td>\n",
       "      <td>Departure</td>\n",
       "      <td>1100000</td>\n",
       "      <td>27561</td>\n",
       "      <td>0</td>\n",
       "    </tr>\n",
       "    <tr>\n",
       "      <th>5372</th>\n",
       "      <td>1856</td>\n",
       "      <td>8/25/2017</td>\n",
       "      <td>Ballerina</td>\n",
       "      <td>30000000</td>\n",
       "      <td>48048527</td>\n",
       "      <td>0</td>\n",
       "    </tr>\n",
       "    <tr>\n",
       "      <th>5374</th>\n",
       "      <td>4237</td>\n",
       "      <td>8/25/2017</td>\n",
       "      <td>Polina danser sa vie</td>\n",
       "      <td>4000000</td>\n",
       "      <td>36630</td>\n",
       "      <td>0</td>\n",
       "    </tr>\n",
       "  </tbody>\n",
       "</table>\n",
       "<p>155 rows × 6 columns</p>\n",
       "</div>"
      ],
      "text/plain": [
       "      Rank Release_Date              Movie_Title  USD_Production_Budget  \\\n",
       "71    4310    2/16/1956                 Carousel                3380000   \n",
       "1579  5087    2/11/2001  Everything Put Together                 500000   \n",
       "1744  3695   12/31/2001                 The Hole                7500000   \n",
       "2155  4236   12/31/2003                  Nothing                4000000   \n",
       "2203  2513    3/31/2004                The Touch               20000000   \n",
       "...    ...          ...                      ...                    ...   \n",
       "5340  1506    4/14/2017      Queen of the Desert               36000000   \n",
       "5348  2225     5/5/2017        Chāi dàn zhuānjiā               23000000   \n",
       "5360  4832     7/3/2017                Departure                1100000   \n",
       "5372  1856    8/25/2017                Ballerina               30000000   \n",
       "5374  4237    8/25/2017     Polina danser sa vie                4000000   \n",
       "\n",
       "      USD_Worldwide_Gross  USD_Domestic_Gross  \n",
       "71                   3220                   0  \n",
       "1579                 7890                   0  \n",
       "1744             10834406                   0  \n",
       "2155                63180                   0  \n",
       "2203              5918742                   0  \n",
       "...                   ...                 ...  \n",
       "5340              1480089                   0  \n",
       "5348             58807172                   0  \n",
       "5360                27561                   0  \n",
       "5372             48048527                   0  \n",
       "5374                36630                   0  \n",
       "\n",
       "[155 rows x 6 columns]"
      ]
     },
     "execution_count": 157,
     "metadata": {},
     "output_type": "execute_result"
    }
   ],
   "source": [
    "data.query('USD_Domestic_Gross == 0 and USD_Worldwide_Gross != 0')"
   ]
  },
  {
   "cell_type": "markdown",
   "id": "053c1771-0f36-4aa3-a427-93b220e40e78",
   "metadata": {},
   "source": [
    "10. There are 155 films that made \\\\$0 domestically but made money worldwide"
   ]
  },
  {
   "cell_type": "code",
   "execution_count": 186,
   "id": "1580c08c-2644-4839-a363-f210d3fa9111",
   "metadata": {},
   "outputs": [],
   "source": [
    "data_collection = pd.Timestamp('2018-05-01')"
   ]
  },
  {
   "cell_type": "code",
   "execution_count": 190,
   "id": "a947dc97-d193-4b8c-9bd9-bfaf23922c8c",
   "metadata": {},
   "outputs": [
    {
     "data": {
      "text/plain": [
       "Rank                      int64\n",
       "Release_Date             object\n",
       "Movie_Title              object\n",
       "USD_Production_Budget     int64\n",
       "USD_Worldwide_Gross       int64\n",
       "USD_Domestic_Gross        int64\n",
       "dtype: object"
      ]
     },
     "execution_count": 190,
     "metadata": {},
     "output_type": "execute_result"
    }
   ],
   "source": [
    "data.dtypes"
   ]
  },
  {
   "cell_type": "code",
   "execution_count": 196,
   "id": "e9e8c32a-d1c0-451b-acf2-3bd806c96e3c",
   "metadata": {},
   "outputs": [
    {
     "data": {
      "text/html": [
       "<div>\n",
       "<style scoped>\n",
       "    .dataframe tbody tr th:only-of-type {\n",
       "        vertical-align: middle;\n",
       "    }\n",
       "\n",
       "    .dataframe tbody tr th {\n",
       "        vertical-align: top;\n",
       "    }\n",
       "\n",
       "    .dataframe thead th {\n",
       "        text-align: right;\n",
       "    }\n",
       "</style>\n",
       "<table border=\"1\" class=\"dataframe\">\n",
       "  <thead>\n",
       "    <tr style=\"text-align: right;\">\n",
       "      <th></th>\n",
       "      <th>Rank</th>\n",
       "      <th>Release_Date</th>\n",
       "      <th>Movie_Title</th>\n",
       "      <th>USD_Production_Budget</th>\n",
       "      <th>USD_Worldwide_Gross</th>\n",
       "      <th>USD_Domestic_Gross</th>\n",
       "    </tr>\n",
       "  </thead>\n",
       "  <tbody>\n",
       "    <tr>\n",
       "      <th>5384</th>\n",
       "      <td>321</td>\n",
       "      <td>2018-09-03</td>\n",
       "      <td>A Wrinkle in Time</td>\n",
       "      <td>103000000</td>\n",
       "      <td>0</td>\n",
       "      <td>0</td>\n",
       "    </tr>\n",
       "    <tr>\n",
       "      <th>5385</th>\n",
       "      <td>366</td>\n",
       "      <td>2018-10-08</td>\n",
       "      <td>Amusement Park</td>\n",
       "      <td>100000000</td>\n",
       "      <td>0</td>\n",
       "      <td>0</td>\n",
       "    </tr>\n",
       "    <tr>\n",
       "      <th>5386</th>\n",
       "      <td>2950</td>\n",
       "      <td>2018-10-08</td>\n",
       "      <td>Meg</td>\n",
       "      <td>15000000</td>\n",
       "      <td>0</td>\n",
       "      <td>0</td>\n",
       "    </tr>\n",
       "    <tr>\n",
       "      <th>5387</th>\n",
       "      <td>126</td>\n",
       "      <td>2018-12-18</td>\n",
       "      <td>Aquaman</td>\n",
       "      <td>160000000</td>\n",
       "      <td>0</td>\n",
       "      <td>0</td>\n",
       "    </tr>\n",
       "    <tr>\n",
       "      <th>5388</th>\n",
       "      <td>96</td>\n",
       "      <td>2020-12-31</td>\n",
       "      <td>Singularity</td>\n",
       "      <td>175000000</td>\n",
       "      <td>0</td>\n",
       "      <td>0</td>\n",
       "    </tr>\n",
       "    <tr>\n",
       "      <th>5389</th>\n",
       "      <td>1119</td>\n",
       "      <td>2020-12-31</td>\n",
       "      <td>Hannibal the Conqueror</td>\n",
       "      <td>50000000</td>\n",
       "      <td>0</td>\n",
       "      <td>0</td>\n",
       "    </tr>\n",
       "    <tr>\n",
       "      <th>5390</th>\n",
       "      <td>2517</td>\n",
       "      <td>2020-12-31</td>\n",
       "      <td>Story of Bonnie and Clyde, The</td>\n",
       "      <td>20000000</td>\n",
       "      <td>0</td>\n",
       "      <td>0</td>\n",
       "    </tr>\n",
       "  </tbody>\n",
       "</table>\n",
       "</div>"
      ],
      "text/plain": [
       "      Rank Release_Date                     Movie_Title  \\\n",
       "5384   321   2018-09-03               A Wrinkle in Time   \n",
       "5385   366   2018-10-08                  Amusement Park   \n",
       "5386  2950   2018-10-08                             Meg   \n",
       "5387   126   2018-12-18                         Aquaman   \n",
       "5388    96   2020-12-31                     Singularity   \n",
       "5389  1119   2020-12-31          Hannibal the Conqueror   \n",
       "5390  2517   2020-12-31  Story of Bonnie and Clyde, The   \n",
       "\n",
       "      USD_Production_Budget  USD_Worldwide_Gross  USD_Domestic_Gross  \n",
       "5384              103000000                    0                   0  \n",
       "5385              100000000                    0                   0  \n",
       "5386               15000000                    0                   0  \n",
       "5387              160000000                    0                   0  \n",
       "5388              175000000                    0                   0  \n",
       "5389               50000000                    0                   0  \n",
       "5390               20000000                    0                   0  "
      ]
     },
     "execution_count": 196,
     "metadata": {},
     "output_type": "execute_result"
    }
   ],
   "source": [
    "data[data.Release_Date >= data_collection]"
   ]
  },
  {
   "cell_type": "markdown",
   "id": "04f250ac-78a9-4d1b-8fbf-f3dfd376605c",
   "metadata": {},
   "source": [
    "11. The films that were unreleased at the time of data collection are shown above"
   ]
  },
  {
   "cell_type": "code",
   "execution_count": 202,
   "id": "9f96b7cc-7ab5-4309-a4ff-5e54b305f88e",
   "metadata": {},
   "outputs": [],
   "source": [
    "unreleased = data[data.Release_Date >= data_collection]\n",
    "data = data.drop(unreleased.index)"
   ]
  },
  {
   "cell_type": "code",
   "execution_count": 204,
   "id": "f19327b1-32c6-4df3-8534-20522e857563",
   "metadata": {},
   "outputs": [
    {
     "data": {
      "text/plain": [
       "(5382, 6)"
      ]
     },
     "execution_count": 204,
     "metadata": {},
     "output_type": "execute_result"
    }
   ],
   "source": [
    "data.shape"
   ]
  },
  {
   "cell_type": "code",
   "execution_count": 213,
   "id": "96c23858-c714-48ea-a570-5e122e1d9e76",
   "metadata": {},
   "outputs": [
    {
     "data": {
      "text/html": [
       "<div>\n",
       "<style scoped>\n",
       "    .dataframe tbody tr th:only-of-type {\n",
       "        vertical-align: middle;\n",
       "    }\n",
       "\n",
       "    .dataframe tbody tr th {\n",
       "        vertical-align: top;\n",
       "    }\n",
       "\n",
       "    .dataframe thead th {\n",
       "        text-align: right;\n",
       "    }\n",
       "</style>\n",
       "<table border=\"1\" class=\"dataframe\">\n",
       "  <thead>\n",
       "    <tr style=\"text-align: right;\">\n",
       "      <th></th>\n",
       "      <th>Rank</th>\n",
       "      <th>Release_Date</th>\n",
       "      <th>Movie_Title</th>\n",
       "      <th>USD_Production_Budget</th>\n",
       "      <th>USD_Worldwide_Gross</th>\n",
       "      <th>USD_Domestic_Gross</th>\n",
       "    </tr>\n",
       "  </thead>\n",
       "  <tbody>\n",
       "    <tr>\n",
       "      <th>1</th>\n",
       "      <td>5140</td>\n",
       "      <td>1916-05-09</td>\n",
       "      <td>Intolerance</td>\n",
       "      <td>385907</td>\n",
       "      <td>0</td>\n",
       "      <td>0</td>\n",
       "    </tr>\n",
       "    <tr>\n",
       "      <th>6</th>\n",
       "      <td>4630</td>\n",
       "      <td>1927-12-08</td>\n",
       "      <td>Wings</td>\n",
       "      <td>2000000</td>\n",
       "      <td>0</td>\n",
       "      <td>0</td>\n",
       "    </tr>\n",
       "    <tr>\n",
       "      <th>8</th>\n",
       "      <td>4240</td>\n",
       "      <td>1930-01-01</td>\n",
       "      <td>Hell's Angels</td>\n",
       "      <td>4000000</td>\n",
       "      <td>0</td>\n",
       "      <td>0</td>\n",
       "    </tr>\n",
       "    <tr>\n",
       "      <th>15</th>\n",
       "      <td>4738</td>\n",
       "      <td>1936-05-02</td>\n",
       "      <td>Modern Times</td>\n",
       "      <td>1500000</td>\n",
       "      <td>165049</td>\n",
       "      <td>163245</td>\n",
       "    </tr>\n",
       "    <tr>\n",
       "      <th>17</th>\n",
       "      <td>4814</td>\n",
       "      <td>1936-10-20</td>\n",
       "      <td>Charge of the Light Brigade, The</td>\n",
       "      <td>1200000</td>\n",
       "      <td>0</td>\n",
       "      <td>0</td>\n",
       "    </tr>\n",
       "    <tr>\n",
       "      <th>...</th>\n",
       "      <td>...</td>\n",
       "      <td>...</td>\n",
       "      <td>...</td>\n",
       "      <td>...</td>\n",
       "      <td>...</td>\n",
       "      <td>...</td>\n",
       "    </tr>\n",
       "    <tr>\n",
       "      <th>5371</th>\n",
       "      <td>4901</td>\n",
       "      <td>2017-07-28</td>\n",
       "      <td>An Inconvenient Sequel</td>\n",
       "      <td>1000000</td>\n",
       "      <td>130874</td>\n",
       "      <td>130874</td>\n",
       "    </tr>\n",
       "    <tr>\n",
       "      <th>5373</th>\n",
       "      <td>2161</td>\n",
       "      <td>2017-08-25</td>\n",
       "      <td>Tulip Fever</td>\n",
       "      <td>25000000</td>\n",
       "      <td>0</td>\n",
       "      <td>0</td>\n",
       "    </tr>\n",
       "    <tr>\n",
       "      <th>5374</th>\n",
       "      <td>4237</td>\n",
       "      <td>2017-08-25</td>\n",
       "      <td>Polina danser sa vie</td>\n",
       "      <td>4000000</td>\n",
       "      <td>36630</td>\n",
       "      <td>0</td>\n",
       "    </tr>\n",
       "    <tr>\n",
       "      <th>5381</th>\n",
       "      <td>94</td>\n",
       "      <td>2017-12-05</td>\n",
       "      <td>King Arthur: Legend of the Sword</td>\n",
       "      <td>175000000</td>\n",
       "      <td>140012608</td>\n",
       "      <td>39175066</td>\n",
       "    </tr>\n",
       "    <tr>\n",
       "      <th>5383</th>\n",
       "      <td>2521</td>\n",
       "      <td>2017-12-31</td>\n",
       "      <td>The Thousand Miles</td>\n",
       "      <td>20000000</td>\n",
       "      <td>0</td>\n",
       "      <td>0</td>\n",
       "    </tr>\n",
       "  </tbody>\n",
       "</table>\n",
       "<p>2005 rows × 6 columns</p>\n",
       "</div>"
      ],
      "text/plain": [
       "      Rank Release_Date                       Movie_Title  \\\n",
       "1     5140   1916-05-09                       Intolerance   \n",
       "6     4630   1927-12-08                             Wings   \n",
       "8     4240   1930-01-01                     Hell's Angels   \n",
       "15    4738   1936-05-02                      Modern Times   \n",
       "17    4814   1936-10-20  Charge of the Light Brigade, The   \n",
       "...    ...          ...                               ...   \n",
       "5371  4901   2017-07-28            An Inconvenient Sequel   \n",
       "5373  2161   2017-08-25                       Tulip Fever   \n",
       "5374  4237   2017-08-25              Polina danser sa vie   \n",
       "5381    94   2017-12-05  King Arthur: Legend of the Sword   \n",
       "5383  2521   2017-12-31                The Thousand Miles   \n",
       "\n",
       "      USD_Production_Budget  USD_Worldwide_Gross  USD_Domestic_Gross  \n",
       "1                    385907                    0                   0  \n",
       "6                   2000000                    0                   0  \n",
       "8                   4000000                    0                   0  \n",
       "15                  1500000               165049              163245  \n",
       "17                  1200000                    0                   0  \n",
       "...                     ...                  ...                 ...  \n",
       "5371                1000000               130874              130874  \n",
       "5373               25000000                    0                   0  \n",
       "5374                4000000                36630                   0  \n",
       "5381              175000000            140012608            39175066  \n",
       "5383               20000000                    0                   0  \n",
       "\n",
       "[2005 rows x 6 columns]"
      ]
     },
     "execution_count": 213,
     "metadata": {},
     "output_type": "execute_result"
    }
   ],
   "source": [
    "data.query('USD_Worldwide_Gross < USD_Production_Budget')"
   ]
  },
  {
   "cell_type": "markdown",
   "id": "01eec127-8327-4118-8a50-aef797e26d01",
   "metadata": {},
   "source": [
    "12. \n",
    "- There are 2005 films in the dataset out of 5382 which show that their production budget as greater than their worldwide gross. \n",
    "- This represents a total of 36.2% of films "
   ]
  },
  {
   "cell_type": "code",
   "execution_count": null,
   "id": "ac7d8a27-a3b3-434f-ae2c-c2d85caffbe1",
   "metadata": {},
   "outputs": [],
   "source": []
  }
 ],
 "metadata": {
  "kernelspec": {
   "display_name": "Python 3 (ipykernel)",
   "language": "python",
   "name": "python3"
  },
  "language_info": {
   "codemirror_mode": {
    "name": "ipython",
    "version": 3
   },
   "file_extension": ".py",
   "mimetype": "text/x-python",
   "name": "python",
   "nbconvert_exporter": "python",
   "pygments_lexer": "ipython3",
   "version": "3.12.4"
  }
 },
 "nbformat": 4,
 "nbformat_minor": 5
}
